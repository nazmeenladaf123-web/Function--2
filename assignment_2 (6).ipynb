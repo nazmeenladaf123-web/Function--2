{
  "nbformat": 4,
  "nbformat_minor": 0,
  "metadata": {
    "colab": {
      "provenance": [],
      "toc_visible": true
    },
    "kernelspec": {
      "name": "python3",
      "display_name": "Python 3"
    },
    "language_info": {
      "name": "python"
    }
  },
  "cells": [
    {
      "cell_type": "markdown",
      "source": [
        "**Theory questions**"
      ],
      "metadata": {
        "id": "4E8GJVb30Ux-"
      }
    },
    {
      "cell_type": "markdown",
      "source": [
        "1. What are data structures, and why are they importan?\n",
        "\n",
        "\n",
        "\n",
        "*  Data structure are specialized formats for organizing, storing, and accessing collections of data.They provide efficient ways to manage information based on its characteristics and intended use.\n",
        "*  choosing the right data structure significantly impacts the efficiency and performance of your program.\n",
        "well-chosen data structures can.\n",
        "conserve memory usage.\n",
        "\n"
      ],
      "metadata": {
        "id": "sJnllso41HQh"
      }
    },
    {
      "cell_type": "markdown",
      "source": [
        "2. Explain the difference between mutable and immutable data types with examples?\n",
        "\n",
        "*  Mutable data types are those whose value can be modified in-place after their creation. examples are lists, dictionaries, and sets.\n",
        "\n",
        "*   Immutable data types are those whose values cannot be changed after their creation. examples are integers, floats, strings, and tuples.\n",
        "\n"
      ],
      "metadata": {
        "id": "FgzCLnNn5A6a"
      }
    },
    {
      "cell_type": "markdown",
      "source": [
        "3. What are the main differences between lists and tuples in Python?\n",
        "\n",
        "\n",
        "*   A list is a collection of orderd elements. A tuple is a sequence of elements seprated by commas and enclosed in parentheses.\n",
        "*  list are mutable and tuples are immutable.\n",
        "\n"
      ],
      "metadata": {
        "id": "XAvMcs8m9hNg"
      }
    },
    {
      "cell_type": "markdown",
      "source": [
        "4. Describe how dictionaries store data?\n",
        "\n",
        "*   Dictionary store data as a collection of key-value pairs, implemented internally.\n",
        "\n",
        "\n"
      ],
      "metadata": {
        "id": "Ga_xF346_ug5"
      }
    },
    {
      "cell_type": "markdown",
      "source": [
        "5. Why might you use a set instead of a list in Python?\n",
        "\n",
        "*   sets take up a bit more memory as campare to lists, and they aren't ordered the same way that lists are.but unlike lists, sets are always fast at: adding items, removingitems, and checking whether an items is contained within a set.\n",
        "\n",
        "\n"
      ],
      "metadata": {
        "id": "ZBezdCnrAF0V"
      }
    },
    {
      "cell_type": "markdown",
      "source": [
        "6.  What is a string in Python, and how is it different from a list?\n",
        "\n",
        "*   A string is a sequence of characters.\n",
        "*  \n",
        "A string in Python is an ordered sequence of characters, used to represent text. Strings are immutable, meaning their content cannot be changed after creation. They are typically enclosed in single quotes ('...'), double quotes (\"...\"), or triple quotes ('''...''' or \"\"\"...\"\"\") for multi-line strings.\n"
      ],
      "metadata": {
        "id": "UEjm5icJASvo"
      }
    },
    {
      "cell_type": "markdown",
      "source": [
        "7. How do tuples ensure data integrity in Python?\n",
        "\n",
        "*  Tuples in Python ensure data integrity primarily through their immutability. This characteristic means that once a tuple is created, its elements cannot be changed, added, or removed.  \n",
        "\n",
        "\n"
      ],
      "metadata": {
        "id": "zoV97iopAXT8"
      }
    },
    {
      "cell_type": "markdown",
      "source": [
        "8. What is a hash table, and how does it relate to dictionaries in Python?\n",
        "\n",
        "\n",
        "*   A hash table is a data structure that implements an associative array or dictionary, which maps keys to values. It uses a hash function to compute an index into an array of buckets or slots, from which the desired value can be found. The goal is to provide fast average-case time complexity for operations like insertion, deletion, and retrieval.\n",
        "\n",
        "\n",
        "\n",
        "\n",
        "\n"
      ],
      "metadata": {
        "id": "RmosJaT7ApRG"
      }
    },
    {
      "cell_type": "markdown",
      "source": [
        "9. Can lists contain different data types in Python?\n",
        "\n",
        "\n",
        "*   Yes, Python lists can contain elements of different data types. This is a key feature of Python's flexibility and makes lists a highly versatile data structure.\n"
      ],
      "metadata": {
        "id": "8s5ZrE0OAuE5"
      }
    },
    {
      "cell_type": "markdown",
      "source": [
        "10. Explain why strings are immutable in Python?\n",
        "\n",
        "\n",
        "*  Strings are immutable in Python, meaning their content cannot be changed after they are created. Any operation that appears to modify a string actually results in the creation of a new string object in memory."
      ],
      "metadata": {
        "id": "9XJ3QSiCA4JP"
      }
    },
    {
      "cell_type": "markdown",
      "source": [
        "11. What advantages do dictionaries offer over lists for certain tasks?\n",
        "\n",
        "\n",
        "*   Dictionaries excel in scenarios requiring fast lookups, key-value associations, and complex data mappings, while lists are ideal for ordered collections, sequential processing, and simple data storage.\n"
      ],
      "metadata": {
        "id": "akW1mPJJBQ3w"
      }
    },
    {
      "cell_type": "markdown",
      "source": [
        "12. Describe a scenario where using a tuple would be preferable over a list?\n",
        "\n",
        "\n",
        "*   A scenario where using a tuple would be preferable over a list is when representing fixed, unchanging data that logically belongs together as a single entity, and where data integrity is paramount.\n"
      ],
      "metadata": {
        "id": "uC39x-N4Bahq"
      }
    },
    {
      "cell_type": "markdown",
      "source": [
        "13.How do sets handle duplicate values in Python?\n",
        "\n",
        "\n",
        "*  Python's built-in set data structure inherently handles duplicate values by ensuring that each element within a set is unique. Sets are designed to store only distinct elements.\n",
        "\n"
      ],
      "metadata": {
        "id": "FGaFjgk9CKgk"
      }
    },
    {
      "cell_type": "markdown",
      "source": [
        "14. How does the “in” keyword work differently for lists and dictionaries?\n",
        "\n",
        "\n",
        "*   The in keyword in Python functions differently when used with lists and dictionaries due to their underlying data structures and how they store and retrieve data.\n",
        "\n"
      ],
      "metadata": {
        "id": "iGYm888tCScS"
      }
    },
    {
      "cell_type": "markdown",
      "source": [
        "15. Can you modify the elements of a tuple? Explain why or why not?\n",
        "\n",
        "*   No, you cannot directly modify the elements of a phyton tuple because tuple are mutable, meaning their contents are fixed once created.\n",
        "\n",
        "\n"
      ],
      "metadata": {
        "id": "2OY5vtlKCZA2"
      }
    },
    {
      "cell_type": "markdown",
      "source": [
        "16. Creating a nested dictionary means pla16. What is a nested dictionary, and give an example of its use case?\n",
        "\n",
        "\n",
        "*   Creating a nested dictionary means placing dictionary using curly braces{}.\n",
        "*   This example creates a nested dictionary to store details of multiple students. each student is added as a key and their imformation (name, age, grade) is stored in an inner dictionary.\n",
        "\n"
      ],
      "metadata": {
        "id": "V3XXronoCn3o"
      }
    },
    {
      "cell_type": "markdown",
      "source": [
        "17. Describe the time complexity of accessing elements in a dictionary?\n",
        "\n",
        "*   Accessing element in a dictionary, such as retrieving a velue by its key or checking for a key existence, generally exhibits a time complexity of 0(1) on average.\n",
        "\n",
        "\n"
      ],
      "metadata": {
        "id": "SAxuawhKCvmz"
      }
    },
    {
      "cell_type": "markdown",
      "source": [
        "18. In what situations are lists preferred over dictionaries?\n",
        "\n",
        "*   order of elements is important, list maintain the insertion order of elements.\n",
        "*  elements are accessed by numerical index.\n",
        "*  duplicate elements are allowed and meaningful.\n",
        "*  sequential processing is needed.\n",
        "\n",
        "\n",
        "\n"
      ],
      "metadata": {
        "id": "bNsyL0lCDL_V"
      }
    },
    {
      "cell_type": "markdown",
      "source": [
        "19. Why are dictionaries considered unordered, and how does that affect data retrieval?\n",
        "\n",
        "\n",
        "*   A dictionary is termed an unordered collection of objects because dictionaries do not maintain any inherent order of the item based on when they were added.\n",
        "\n"
      ],
      "metadata": {
        "id": "ng8LaICFDVvw"
      }
    },
    {
      "cell_type": "markdown",
      "source": [
        "20. Explain the difference between a list and a dictionary in terms of data retrieval?\n",
        "\n",
        "*   the fundamental difference between a list and a dictionary in terms of data retieval lies in the mechanism used to locate and access.\n",
        "\n"
      ],
      "metadata": {
        "id": "JoKWge8NDhoj"
      }
    },
    {
      "cell_type": "markdown",
      "source": [],
      "metadata": {
        "id": "lM1UPPd_DeSv"
      }
    },
    {
      "cell_type": "code",
      "execution_count": null,
      "metadata": {
        "colab": {
          "base_uri": "https://localhost:8080/"
        },
        "id": "kXW3IYXwpyW5",
        "outputId": "98f824c6-2f13-45bc-f0f5-51651c2115ae"
      },
      "outputs": [
        {
          "output_type": "stream",
          "name": "stdout",
          "text": [
            "my name is nazmeen ladaf.\n"
          ]
        }
      ],
      "source": [
        "# Write a code to create a string with your name and print it?\n",
        "name = (\"my name is nazmeen ladaf.\")\n",
        "print(name)"
      ]
    },
    {
      "cell_type": "code",
      "source": [
        "# Write a code to find the length of the string \"Hello World\"?\n",
        "str = (\"Hello World\")\n",
        "print(len(str))"
      ],
      "metadata": {
        "colab": {
          "base_uri": "https://localhost:8080/"
        },
        "id": "jNxJzlf3p0Mz",
        "outputId": "82fc1661-b6df-4cb8-cd71-2537a05c01a3"
      },
      "execution_count": null,
      "outputs": [
        {
          "output_type": "stream",
          "name": "stdout",
          "text": [
            "11\n"
          ]
        }
      ]
    },
    {
      "cell_type": "code",
      "source": [
        "# Write a code to slice the first 3 characters from the string \"Python Programming\"?\n",
        "str = (\"Phyton Programming\")\n",
        "ch = str[0:3]\n",
        "print(ch)\n"
      ],
      "metadata": {
        "colab": {
          "base_uri": "https://localhost:8080/"
        },
        "id": "D6kVRZW0r5hD",
        "outputId": "88128aa1-6d43-4cff-ab98-0c124429374c"
      },
      "execution_count": null,
      "outputs": [
        {
          "output_type": "stream",
          "name": "stdout",
          "text": [
            "Phy\n"
          ]
        }
      ]
    },
    {
      "cell_type": "code",
      "source": [
        "# Write a code to convert the string \"hello\" to uppercase?\n",
        "str = (\"hello\")\n",
        "print(str.upper())"
      ],
      "metadata": {
        "id": "vry9fUIeVepZ",
        "colab": {
          "base_uri": "https://localhost:8080/"
        },
        "outputId": "1368e5c0-4821-474a-9865-5fe941cbcbd2"
      },
      "execution_count": null,
      "outputs": [
        {
          "output_type": "stream",
          "name": "stdout",
          "text": [
            "HELLO\n"
          ]
        }
      ]
    },
    {
      "cell_type": "code",
      "source": [
        "# Write a code to replace the word \"apple\" with \"orange\" in the string \"I like apple\"?\n",
        "str = (\"i like apple\")\n",
        "print(str)\n",
        "print(str.replace(\"apple\", \"orange\"))"
      ],
      "metadata": {
        "colab": {
          "base_uri": "https://localhost:8080/"
        },
        "id": "-I4TiOUpte2R",
        "outputId": "556020d8-fd34-403f-9445-717b9388c5a9"
      },
      "execution_count": null,
      "outputs": [
        {
          "output_type": "stream",
          "name": "stdout",
          "text": [
            "i like apple\n",
            "i like orange\n"
          ]
        }
      ]
    },
    {
      "cell_type": "code",
      "source": [
        "# Write a code to create a list with numbers 1 to 5 and print it?\n",
        "number = [1,2,3,4,5]\n",
        "print(number)\n",
        "print(type(number))\n"
      ],
      "metadata": {
        "colab": {
          "base_uri": "https://localhost:8080/"
        },
        "id": "1ek9J36_Gq5N",
        "outputId": "e06d72a1-27cf-41ff-e20d-dc50753fa3d3"
      },
      "execution_count": null,
      "outputs": [
        {
          "output_type": "stream",
          "name": "stdout",
          "text": [
            "[1, 2, 3, 4, 5]\n",
            "<class 'list'>\n"
          ]
        }
      ]
    },
    {
      "cell_type": "code",
      "source": [
        "# Write a code to append the number 10 to the list [1, 2, 3, 4]?\n",
        "list = [1,2,3,4]\n",
        "list.append(10)\n",
        "print(list)"
      ],
      "metadata": {
        "colab": {
          "base_uri": "https://localhost:8080/"
        },
        "id": "lYEm8HeAPm1y",
        "outputId": "d834a6d6-0037-45c5-e2e2-aac652b9b581"
      },
      "execution_count": null,
      "outputs": [
        {
          "output_type": "stream",
          "name": "stdout",
          "text": [
            "[1, 2, 3, 4, 10]\n"
          ]
        }
      ]
    },
    {
      "cell_type": "code",
      "source": [
        "# Write a code to remove the number 3 from the list [1, 2, 3, 4, 5]?\n",
        "list = [1,2,3,4,5]\n",
        "list.remove(3)\n",
        "print(list)"
      ],
      "metadata": {
        "colab": {
          "base_uri": "https://localhost:8080/"
        },
        "id": "c-OkmyjfThoJ",
        "outputId": "94c19fc8-4a6e-44bd-dd9d-05dc6e4d041b"
      },
      "execution_count": null,
      "outputs": [
        {
          "output_type": "stream",
          "name": "stdout",
          "text": [
            "[1, 2, 4, 5]\n"
          ]
        }
      ]
    },
    {
      "cell_type": "code",
      "source": [
        "# Write a code to access the second element in the list ['a', 'b', 'c', 'd']?\n",
        "list = ['a', 'b', 'c', 'd']\n",
        "print(list[1])\n",
        "print(list[-3])\n"
      ],
      "metadata": {
        "id": "S5Y7yP85VJqC",
        "colab": {
          "base_uri": "https://localhost:8080/"
        },
        "outputId": "e5a4ad19-467e-4382-9802-0596a1915d98"
      },
      "execution_count": null,
      "outputs": [
        {
          "output_type": "stream",
          "name": "stdout",
          "text": [
            "b\n",
            "b\n"
          ]
        }
      ]
    },
    {
      "cell_type": "code",
      "source": [
        "# Write a code to reverse the list [10, 20, 30, 40, 50]?\n",
        "list = [10,20,30,40,50]\n",
        "list.reverse()\n",
        "print(list)"
      ],
      "metadata": {
        "colab": {
          "base_uri": "https://localhost:8080/"
        },
        "id": "Ffh6JC-RUzd_",
        "outputId": "3f937ef8-e353-4719-858f-23086ef0d074"
      },
      "execution_count": null,
      "outputs": [
        {
          "output_type": "stream",
          "name": "stdout",
          "text": [
            "[50, 40, 30, 20, 10]\n"
          ]
        }
      ]
    }
  ]
}